{
 "cells": [
  {
   "cell_type": "code",
   "execution_count": 0,
   "metadata": {
    "colab": {},
    "colab_type": "code",
    "id": "IdqkAfVrtIOG"
   },
   "outputs": [],
   "source": [
    "import numpy as np\n",
    "\n",
    "a = np.ndarray((3, 25))"
   ]
  },
  {
   "cell_type": "code",
   "execution_count": 0,
   "metadata": {
    "colab": {},
    "colab_type": "code",
    "id": "HgHXrhtItdkc"
   },
   "outputs": [],
   "source": [
    "for i in range(3):\n",
    "    a[i] = np.arange(25)"
   ]
  },
  {
   "cell_type": "code",
   "execution_count": 0,
   "metadata": {
    "colab": {},
    "colab_type": "code",
    "id": "wKtyRuSS2mBq"
   },
   "outputs": [],
   "source": [
    "from keras.models import Sequential\n",
    "from keras.layers import LSTM, Dense\n",
    "from keras.optimizers import RMSprop\n",
    "\n",
    "model = Sequential()\n",
    "model.add(LSTM(32, return_sequences=True, dropout=0.2, recurrent_dropout=0.2, input_shape=(10, 1,)))\n",
    "model.add(LSTM(16, dropout=0.2, recurrent_dropout=0.2))\n",
    "model.add(Dense(1, activation='tanh'))\n",
    "model.compile(loss='mae', optimizer=RMSprop(), metrics=['mae'])"
   ]
  },
  {
   "cell_type": "code",
   "execution_count": 43,
   "metadata": {
    "colab": {
     "base_uri": "https://localhost:8080/",
     "height": 243
    },
    "colab_type": "code",
    "executionInfo": {
     "elapsed": 570,
     "status": "ok",
     "timestamp": 1540480888508,
     "user": {
      "displayName": "Лопата Комар",
      "photoUrl": "",
      "userId": "15181977420584180779"
     },
     "user_tz": -180
    },
    "id": "Fw9qL6B-OTnV",
    "outputId": "8d682d8d-57d3-43c5-b34c-2bac8c7f1d11"
   },
   "outputs": [
    {
     "name": "stdout",
     "output_type": "stream",
     "text": [
      "_________________________________________________________________\n",
      "Layer (type)                 Output Shape              Param #   \n",
      "=================================================================\n",
      "lstm_3 (LSTM)                (None, 10, 32)            4352      \n",
      "_________________________________________________________________\n",
      "lstm_4 (LSTM)                (None, 16)                3136      \n",
      "_________________________________________________________________\n",
      "dense_2 (Dense)              (None, 1)                 17        \n",
      "=================================================================\n",
      "Total params: 7,505\n",
      "Trainable params: 7,505\n",
      "Non-trainable params: 0\n",
      "_________________________________________________________________\n"
     ]
    }
   ],
   "source": [
    "model.summary()"
   ]
  },
  {
   "cell_type": "code",
   "execution_count": 0,
   "metadata": {
    "colab": {},
    "colab_type": "code",
    "id": "fbl3oJxRVIAo"
   },
   "outputs": [],
   "source": [
    "X_train = np.zeros((15, 10, 3))\n",
    "Y_train = np.zeros((15, 3))"
   ]
  },
  {
   "cell_type": "code",
   "execution_count": 0,
   "metadata": {
    "colab": {},
    "colab_type": "code",
    "id": "2PqJwMm0WZUt"
   },
   "outputs": [],
   "source": [
    "for i in range(15):\n",
    "    X_train[i] = a.T[(0 + i):(10 + i), :]\n",
    "    Y_train[i] = a.T[10 + i, :]\n",
    "    \n",
    "X_train_n = np.split(X_train, 3, axis=2)\n",
    "Y_train_n = np.split(Y_train, 3, axis=1)"
   ]
  },
  {
   "cell_type": "code",
   "execution_count": 0,
   "metadata": {
    "colab": {},
    "colab_type": "code",
    "id": "sTuqkpPuWnsY"
   },
   "outputs": [],
   "source": [
    "X_train1 = X_train_n[0]\n",
    "X_train2 = X_train_n[1]\n",
    "X_train3 = X_train_n[2]\n",
    "\n",
    "Y_train1 = Y_train_n[0]\n",
    "Y_train2 = Y_train_n[1]\n",
    "Y_train3 = Y_train_n[2]\n",
    "\n",
    "\n",
    "Y_train1 = np.subtract(Y_train1, X_train1[:, X_train1.shape[1] - 1]) / Y_train1\n",
    "Y_train2 = np.subtract(Y_train2, X_train2[:, X_train2.shape[1] - 1]) / Y_train2\n",
    "Y_train3 = np.subtract(Y_train3, X_train3[:, X_train3.shape[1] - 1]) / Y_train3"
   ]
  },
  {
   "cell_type": "code",
   "execution_count": 47,
   "metadata": {
    "colab": {
     "base_uri": "https://localhost:8080/",
     "height": 382
    },
    "colab_type": "code",
    "executionInfo": {
     "elapsed": 4538,
     "status": "ok",
     "timestamp": 1540480895357,
     "user": {
      "displayName": "Лопата Комар",
      "photoUrl": "",
      "userId": "15181977420584180779"
     },
     "user_tz": -180
    },
    "id": "LUKxtkLqZz1o",
    "outputId": "beb1c741-f9a4-4583-da64-6f12760eaf72"
   },
   "outputs": [
    {
     "name": "stdout",
     "output_type": "stream",
     "text": [
      "Epoch 1/10\n",
      "15/15 [==============================] - 2s 112ms/step - loss: 0.1856 - mean_absolute_error: 0.1856\n",
      "Epoch 2/10\n",
      "15/15 [==============================] - 0s 3ms/step - loss: 0.1971 - mean_absolute_error: 0.1971\n",
      "Epoch 3/10\n",
      "15/15 [==============================] - 0s 3ms/step - loss: 0.1531 - mean_absolute_error: 0.1531\n",
      "Epoch 4/10\n",
      "15/15 [==============================] - 0s 3ms/step - loss: 0.0921 - mean_absolute_error: 0.0921\n",
      "Epoch 5/10\n",
      "15/15 [==============================] - 0s 4ms/step - loss: 0.1313 - mean_absolute_error: 0.1313\n",
      "Epoch 6/10\n",
      "15/15 [==============================] - 0s 3ms/step - loss: 0.0918 - mean_absolute_error: 0.0918\n",
      "Epoch 7/10\n",
      "15/15 [==============================] - 0s 3ms/step - loss: 0.0746 - mean_absolute_error: 0.0746\n",
      "Epoch 8/10\n",
      "15/15 [==============================] - 0s 3ms/step - loss: 0.1009 - mean_absolute_error: 0.1009\n",
      "Epoch 9/10\n",
      "15/15 [==============================] - 0s 3ms/step - loss: 0.0890 - mean_absolute_error: 0.0890\n",
      "Epoch 10/10\n",
      "15/15 [==============================] - 0s 3ms/step - loss: 0.0914 - mean_absolute_error: 0.0914\n"
     ]
    },
    {
     "data": {
      "text/plain": [
       "<keras.callbacks.History at 0x7f0daa1656a0>"
      ]
     },
     "execution_count": 47,
     "metadata": {
      "tags": []
     },
     "output_type": "execute_result"
    }
   ],
   "source": [
    "model.fit(X_train3, Y_train3, epochs=10, batch_size=5)"
   ]
  },
  {
   "cell_type": "code",
   "execution_count": 0,
   "metadata": {
    "colab": {},
    "colab_type": "code",
    "id": "U7QtRI8Ca7y7"
   },
   "outputs": [],
   "source": []
  }
 ],
 "metadata": {
  "colab": {
   "collapsed_sections": [],
   "name": "test_lstm.ipynb",
   "provenance": [],
   "version": "0.3.2"
  },
  "kernelspec": {
   "display_name": "Python 3",
   "language": "python",
   "name": "python3"
  },
  "language_info": {
   "codemirror_mode": {
    "name": "ipython",
    "version": 3
   },
   "file_extension": ".py",
   "mimetype": "text/x-python",
   "name": "python",
   "nbconvert_exporter": "python",
   "pygments_lexer": "ipython3",
   "version": "3.6.5"
  }
 },
 "nbformat": 4,
 "nbformat_minor": 1
}
